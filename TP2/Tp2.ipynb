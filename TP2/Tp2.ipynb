{
  "nbformat": 4,
  "nbformat_minor": 0,
  "metadata": {
    "colab": {
      "name": "SGBD.ipynb",
      "provenance": [],
      "collapsed_sections": []
    },
    "kernelspec": {
      "name": "python3",
      "display_name": "Python 3"
    },
    "language_info": {
      "name": "python"
    }
  },
  "cells": [
    {
      "cell_type": "markdown",
      "metadata": {
        "id": "SvjL9I-_BLJm"
      },
      "source": [
        "# Trabajo Práctico N°2\n",
        "### Procesamiento de tablas\n",
        "\n",
        "#### Alumnos: \n",
        "- Brian Sosa\n",
        "- Ramiro Ares\n",
        "- David Veron"
      ]
    },
    {
      "cell_type": "markdown",
      "metadata": {
        "id": "grWvtnIRCkyD"
      },
      "source": [
        "### Montaje de Google Drive para Colab y lectura del data set"
      ]
    },
    {
      "cell_type": "code",
      "metadata": {
        "id": "QZKmQigkqdh4",
        "colab": {
          "base_uri": "https://localhost:8080/"
        },
        "outputId": "e6158b9d-39db-40e7-8f84-0544b9c9d95f"
      },
      "source": [
        "from google.colab import drive\n",
        "drive.mount('/content/drive')"
      ],
      "execution_count": null,
      "outputs": [
        {
          "output_type": "stream",
          "name": "stdout",
          "text": [
            "Drive already mounted at /content/drive; to attempt to forcibly remount, call drive.mount(\"/content/drive\", force_remount=True).\n"
          ]
        }
      ]
    },
    {
      "cell_type": "code",
      "metadata": {
        "id": "D3FWIfB7q60U",
        "colab": {
          "base_uri": "https://localhost:8080/"
        },
        "outputId": "252b2ad7-8348-4b5d-a4d3-8abc52c8fb32"
      },
      "source": [
        "!unzip \"/content/drive/MyDrive/Colab Notebooks/properati.zip\""
      ],
      "execution_count": null,
      "outputs": [
        {
          "output_type": "stream",
          "name": "stdout",
          "text": [
            "Archive:  /content/drive/MyDrive/Colab Notebooks/properati.zip\n",
            "  inflating: properati-AR-2018-02-01-properties-sell.csv  \n"
          ]
        }
      ]
    },
    {
      "cell_type": "code",
      "metadata": {
        "colab": {
          "base_uri": "https://localhost:8080/",
          "height": 967
        },
        "id": "_BL7rMlinNBR",
        "outputId": "cbe6a576-f859-42a9-add5-84b36656fc23"
      },
      "source": [
        "import pandas as pd\n",
        "import numpy as np\n",
        "import matplotlib.pyplot as plt\n",
        "\n",
        "df = pd.read_csv(\"properati-AR-2018-02-01-properties-sell.csv\")\n",
        "df"
      ],
      "execution_count": null,
      "outputs": [
        {
          "output_type": "execute_result",
          "data": {
            "text/html": [
              "<div>\n",
              "<style scoped>\n",
              "    .dataframe tbody tr th:only-of-type {\n",
              "        vertical-align: middle;\n",
              "    }\n",
              "\n",
              "    .dataframe tbody tr th {\n",
              "        vertical-align: top;\n",
              "    }\n",
              "\n",
              "    .dataframe thead th {\n",
              "        text-align: right;\n",
              "    }\n",
              "</style>\n",
              "<table border=\"1\" class=\"dataframe\">\n",
              "  <thead>\n",
              "    <tr style=\"text-align: right;\">\n",
              "      <th></th>\n",
              "      <th>id</th>\n",
              "      <th>created_on</th>\n",
              "      <th>operation</th>\n",
              "      <th>property_type</th>\n",
              "      <th>place_name</th>\n",
              "      <th>place_with_parent_names</th>\n",
              "      <th>country_name</th>\n",
              "      <th>state_name</th>\n",
              "      <th>geonames_id</th>\n",
              "      <th>lat-lon</th>\n",
              "      <th>lat</th>\n",
              "      <th>lon</th>\n",
              "      <th>price</th>\n",
              "      <th>currency</th>\n",
              "      <th>price_aprox_local_currency</th>\n",
              "      <th>price_aprox_usd</th>\n",
              "      <th>surface_total_in_m2</th>\n",
              "      <th>surface_covered_in_m2</th>\n",
              "      <th>price_usd_per_m2</th>\n",
              "      <th>price_per_m2</th>\n",
              "      <th>floor</th>\n",
              "      <th>rooms</th>\n",
              "      <th>expenses</th>\n",
              "      <th>properati_url</th>\n",
              "      <th>description</th>\n",
              "      <th>title</th>\n",
              "      <th>image_thumbnail</th>\n",
              "    </tr>\n",
              "  </thead>\n",
              "  <tbody>\n",
              "    <tr>\n",
              "      <th>0</th>\n",
              "      <td>0de2467efb2476545515f109b506e084728ea6a2</td>\n",
              "      <td>2017-03-01</td>\n",
              "      <td>sell</td>\n",
              "      <td>house</td>\n",
              "      <td>Merlo</td>\n",
              "      <td>|Argentina|Bs.As. G.B.A. Zona Oeste|Merlo|</td>\n",
              "      <td>Argentina</td>\n",
              "      <td>Bs.As. G.B.A. Zona Oeste</td>\n",
              "      <td>3430696.0</td>\n",
              "      <td>-34.67561,-58.725101</td>\n",
              "      <td>-34.675610</td>\n",
              "      <td>-58.725101</td>\n",
              "      <td>1199000.0</td>\n",
              "      <td>USD</td>\n",
              "      <td>23542365.0</td>\n",
              "      <td>1199000.0</td>\n",
              "      <td>335.0</td>\n",
              "      <td>NaN</td>\n",
              "      <td>3579.104478</td>\n",
              "      <td>NaN</td>\n",
              "      <td>NaN</td>\n",
              "      <td>NaN</td>\n",
              "      <td>NaN</td>\n",
              "      <td>https://www.properati.com.ar/16219_venta_casa_...</td>\n",
              "      <td>Esta Hermosa Casa en Palermo Soho ha sido comp...</td>\n",
              "      <td>Hermosa casa en el corazón de Palermo Soho con...</td>\n",
              "      <td>https://thumbs4.properati.com/0/0spuVNRd1jmVHZ...</td>\n",
              "    </tr>\n",
              "    <tr>\n",
              "      <th>1</th>\n",
              "      <td>cb23211cab9f6183df65c01f6be24bb48f4dca62</td>\n",
              "      <td>2016-09-20</td>\n",
              "      <td>sell</td>\n",
              "      <td>house</td>\n",
              "      <td>Pinamar</td>\n",
              "      <td>|Argentina|Buenos Aires Costa Atlántica|Pinamar|</td>\n",
              "      <td>Argentina</td>\n",
              "      <td>Buenos Aires Costa Atlántica</td>\n",
              "      <td>3429971.0</td>\n",
              "      <td>-37.1081928835,-56.8638181686</td>\n",
              "      <td>-37.108193</td>\n",
              "      <td>-56.863818</td>\n",
              "      <td>NaN</td>\n",
              "      <td>NaN</td>\n",
              "      <td>NaN</td>\n",
              "      <td>NaN</td>\n",
              "      <td>0.0</td>\n",
              "      <td>NaN</td>\n",
              "      <td>NaN</td>\n",
              "      <td>NaN</td>\n",
              "      <td>NaN</td>\n",
              "      <td>NaN</td>\n",
              "      <td>NaN</td>\n",
              "      <td>https://www.properati.com.ar/11ivz_venta_casa_...</td>\n",
              "      <td>VILLA FLORENCIA - UF 8Excelente Triplex de 4 a...</td>\n",
              "      <td>VILLA FLORENCIA - CATEGORICO DUPLEX EN VENTA</td>\n",
              "      <td>https://thumbs4.properati.com/3/L6iQ8xPFc9vf9b...</td>\n",
              "    </tr>\n",
              "    <tr>\n",
              "      <th>2</th>\n",
              "      <td>4f62d7c3f374570841ab10a3cbe6cca938e21484</td>\n",
              "      <td>2016-03-16</td>\n",
              "      <td>sell</td>\n",
              "      <td>house</td>\n",
              "      <td>Pinamar</td>\n",
              "      <td>|Argentina|Buenos Aires Costa Atlántica|Pinamar|</td>\n",
              "      <td>Argentina</td>\n",
              "      <td>Buenos Aires Costa Atlántica</td>\n",
              "      <td>3429971.0</td>\n",
              "      <td>-37.0916153921,-56.8460414663</td>\n",
              "      <td>-37.091615</td>\n",
              "      <td>-56.846041</td>\n",
              "      <td>200000.0</td>\n",
              "      <td>USD</td>\n",
              "      <td>3927000.0</td>\n",
              "      <td>200000.0</td>\n",
              "      <td>526.0</td>\n",
              "      <td>NaN</td>\n",
              "      <td>380.228137</td>\n",
              "      <td>NaN</td>\n",
              "      <td>NaN</td>\n",
              "      <td>NaN</td>\n",
              "      <td>NaN</td>\n",
              "      <td>https://www.properati.com.ar/x8lk_venta_casa_p...</td>\n",
              "      <td>Living, comedor, amplia cocina, 2 dormitorios ...</td>\n",
              "      <td>EXCELENTE CASA EN VENTA, EN EXCLUSIVA ZONA DE ...</td>\n",
              "      <td>https://thumbs4.properati.com/8/chd92sZHrIo_n1...</td>\n",
              "    </tr>\n",
              "    <tr>\n",
              "      <th>3</th>\n",
              "      <td>1649a3c35359d681abae4a63d9a8545054d2096b</td>\n",
              "      <td>2017-09-22</td>\n",
              "      <td>sell</td>\n",
              "      <td>house</td>\n",
              "      <td>Palermo Viejo</td>\n",
              "      <td>|Argentina|Capital Federal|Palermo|Palermo Viejo|</td>\n",
              "      <td>Argentina</td>\n",
              "      <td>Capital Federal</td>\n",
              "      <td>NaN</td>\n",
              "      <td>-34.5889531469,-58.4298817776</td>\n",
              "      <td>-34.588953</td>\n",
              "      <td>-58.429882</td>\n",
              "      <td>2000000.0</td>\n",
              "      <td>USD</td>\n",
              "      <td>39270000.0</td>\n",
              "      <td>2000000.0</td>\n",
              "      <td>312.0</td>\n",
              "      <td>NaN</td>\n",
              "      <td>6410.256410</td>\n",
              "      <td>NaN</td>\n",
              "      <td>NaN</td>\n",
              "      <td>NaN</td>\n",
              "      <td>NaN</td>\n",
              "      <td>https://www.properati.com.ar/2os_venta_casa_pa...</td>\n",
              "      <td>Beautiful Florentine Style  house.Needs renova...</td>\n",
              "      <td>Beautiful Florentine Style house, ideal for Ho...</td>\n",
              "      <td>https://thumbs4.properati.com/4/VwMxluMwG26qfK...</td>\n",
              "    </tr>\n",
              "    <tr>\n",
              "      <th>4</th>\n",
              "      <td>f7270f3642296d4454458b0a6cfc0fa422d015a7</td>\n",
              "      <td>2016-09-29</td>\n",
              "      <td>sell</td>\n",
              "      <td>apartment</td>\n",
              "      <td>Rosario</td>\n",
              "      <td>|Argentina|Santa Fe|Rosario|</td>\n",
              "      <td>Argentina</td>\n",
              "      <td>Santa Fe</td>\n",
              "      <td>3838574.0</td>\n",
              "      <td>-32.950415207,-60.6312274933</td>\n",
              "      <td>-32.950415</td>\n",
              "      <td>-60.631227</td>\n",
              "      <td>NaN</td>\n",
              "      <td>NaN</td>\n",
              "      <td>NaN</td>\n",
              "      <td>NaN</td>\n",
              "      <td>0.0</td>\n",
              "      <td>NaN</td>\n",
              "      <td>NaN</td>\n",
              "      <td>NaN</td>\n",
              "      <td>NaN</td>\n",
              "      <td>NaN</td>\n",
              "      <td>NaN</td>\n",
              "      <td>https://www.properati.com.ar/11qqz_venta_depar...</td>\n",
              "      <td>San Luis 500Edificio de 12  pisos / semi pisos...</td>\n",
              "      <td>Venta Depto 1 Dor c/Cochera Categoría - San Lu...</td>\n",
              "      <td>https://thumbs4.properati.com/7/tLacKGfOtTKun1...</td>\n",
              "    </tr>\n",
              "    <tr>\n",
              "      <th>...</th>\n",
              "      <td>...</td>\n",
              "      <td>...</td>\n",
              "      <td>...</td>\n",
              "      <td>...</td>\n",
              "      <td>...</td>\n",
              "      <td>...</td>\n",
              "      <td>...</td>\n",
              "      <td>...</td>\n",
              "      <td>...</td>\n",
              "      <td>...</td>\n",
              "      <td>...</td>\n",
              "      <td>...</td>\n",
              "      <td>...</td>\n",
              "      <td>...</td>\n",
              "      <td>...</td>\n",
              "      <td>...</td>\n",
              "      <td>...</td>\n",
              "      <td>...</td>\n",
              "      <td>...</td>\n",
              "      <td>...</td>\n",
              "      <td>...</td>\n",
              "      <td>...</td>\n",
              "      <td>...</td>\n",
              "      <td>...</td>\n",
              "      <td>...</td>\n",
              "      <td>...</td>\n",
              "      <td>...</td>\n",
              "    </tr>\n",
              "    <tr>\n",
              "      <th>179658</th>\n",
              "      <td>3cfb3a489574843c63fc4530cc3ff13936d1c334</td>\n",
              "      <td>2018-02-01</td>\n",
              "      <td>sell</td>\n",
              "      <td>house</td>\n",
              "      <td>Barrio Los Castores</td>\n",
              "      <td>|Argentina|Bs.As. G.B.A. Zona Norte|Tigre|Nord...</td>\n",
              "      <td>Argentina</td>\n",
              "      <td>Bs.As. G.B.A. Zona Norte</td>\n",
              "      <td>NaN</td>\n",
              "      <td>-34.4026444,-58.6684776</td>\n",
              "      <td>-34.402644</td>\n",
              "      <td>-58.668478</td>\n",
              "      <td>NaN</td>\n",
              "      <td>NaN</td>\n",
              "      <td>NaN</td>\n",
              "      <td>NaN</td>\n",
              "      <td>481.0</td>\n",
              "      <td>411.0</td>\n",
              "      <td>NaN</td>\n",
              "      <td>NaN</td>\n",
              "      <td>NaN</td>\n",
              "      <td>NaN</td>\n",
              "      <td>NaN</td>\n",
              "      <td>https://www.properati.com.ar/1khez_venta_casa_...</td>\n",
              "      <td>PROPIEDAD DESARROLLADA EN DOS PLANTAS SOBRE LO...</td>\n",
              "      <td>CASA RACIONALISTA EN CASTORES AL LAGO CENTRAL</td>\n",
              "      <td>https://thumbs4.properati.com/0/Jfxnv5jLfqcmWf...</td>\n",
              "    </tr>\n",
              "    <tr>\n",
              "      <th>179659</th>\n",
              "      <td>4c3003fb94e85d7b12122e1c976a03009b29e683</td>\n",
              "      <td>2018-02-01</td>\n",
              "      <td>sell</td>\n",
              "      <td>house</td>\n",
              "      <td>Barrio Los Castores</td>\n",
              "      <td>|Argentina|Bs.As. G.B.A. Zona Norte|Tigre|Nord...</td>\n",
              "      <td>Argentina</td>\n",
              "      <td>Bs.As. G.B.A. Zona Norte</td>\n",
              "      <td>NaN</td>\n",
              "      <td>-34.4026444,-58.6684776</td>\n",
              "      <td>-34.402644</td>\n",
              "      <td>-58.668478</td>\n",
              "      <td>NaN</td>\n",
              "      <td>NaN</td>\n",
              "      <td>NaN</td>\n",
              "      <td>NaN</td>\n",
              "      <td>481.0</td>\n",
              "      <td>411.0</td>\n",
              "      <td>NaN</td>\n",
              "      <td>NaN</td>\n",
              "      <td>NaN</td>\n",
              "      <td>NaN</td>\n",
              "      <td>NaN</td>\n",
              "      <td>https://www.properati.com.ar/1khf1_venta_casa_...</td>\n",
              "      <td>PROPIEDAD DESARROLLADA EN DOS PLANTAS SOBRE LO...</td>\n",
              "      <td>CASA RACIONALISTA EN CASTORES AL LAGO CENTRAL</td>\n",
              "      <td>https://thumbs4.properati.com/4/oY1DdZNAdKFtiY...</td>\n",
              "    </tr>\n",
              "    <tr>\n",
              "      <th>179660</th>\n",
              "      <td>daaa288b5e16d275f5b10866c1d869862e919fbd</td>\n",
              "      <td>2018-02-01</td>\n",
              "      <td>sell</td>\n",
              "      <td>house</td>\n",
              "      <td>Barrio San Isidro Labrador</td>\n",
              "      <td>|Argentina|Bs.As. G.B.A. Zona Norte|Tigre|Barr...</td>\n",
              "      <td>Argentina</td>\n",
              "      <td>Bs.As. G.B.A. Zona Norte</td>\n",
              "      <td>NaN</td>\n",
              "      <td>-34.3823451,-58.6821671</td>\n",
              "      <td>-34.382345</td>\n",
              "      <td>-58.682167</td>\n",
              "      <td>390000.0</td>\n",
              "      <td>USD</td>\n",
              "      <td>7657650.0</td>\n",
              "      <td>390000.0</td>\n",
              "      <td>200.0</td>\n",
              "      <td>200.0</td>\n",
              "      <td>1950.000000</td>\n",
              "      <td>1950.000000</td>\n",
              "      <td>NaN</td>\n",
              "      <td>NaN</td>\n",
              "      <td>NaN</td>\n",
              "      <td>https://www.properati.com.ar/1khf3_venta_casa_...</td>\n",
              "      <td>Hermosa casa en barrio privado San Isidro Labr...</td>\n",
              "      <td>Casa Barrio cerrado San isidro labrador y Amar...</td>\n",
              "      <td>https://thumbs4.properati.com/2/m2AsqMYSbiwPba...</td>\n",
              "    </tr>\n",
              "    <tr>\n",
              "      <th>179661</th>\n",
              "      <td>d93424b51954e7a5c4704d86d0894474be4efb8d</td>\n",
              "      <td>2018-02-01</td>\n",
              "      <td>sell</td>\n",
              "      <td>house</td>\n",
              "      <td>Tigre</td>\n",
              "      <td>|Argentina|Bs.As. G.B.A. Zona Norte|Tigre|</td>\n",
              "      <td>Argentina</td>\n",
              "      <td>Bs.As. G.B.A. Zona Norte</td>\n",
              "      <td>3427753.0</td>\n",
              "      <td>-34.425087,-58.5796585</td>\n",
              "      <td>-34.425087</td>\n",
              "      <td>-58.579658</td>\n",
              "      <td>315000.0</td>\n",
              "      <td>USD</td>\n",
              "      <td>6185025.0</td>\n",
              "      <td>315000.0</td>\n",
              "      <td>215.0</td>\n",
              "      <td>190.0</td>\n",
              "      <td>1465.116279</td>\n",
              "      <td>1657.894737</td>\n",
              "      <td>NaN</td>\n",
              "      <td>NaN</td>\n",
              "      <td>NaN</td>\n",
              "      <td>https://www.properati.com.ar/1khf4_venta_casa_...</td>\n",
              "      <td>casa racionalista en Barrio Cerrado San Franci...</td>\n",
              "      <td>SAN FRANCISCO CASA RACIONALISTA.</td>\n",
              "      <td>https://thumbs4.properati.com/7/vAXV5zxpSdpSD0...</td>\n",
              "    </tr>\n",
              "    <tr>\n",
              "      <th>179662</th>\n",
              "      <td>4ee2810feb951adf0ce176adccd43a86b99642b7</td>\n",
              "      <td>2018-02-01</td>\n",
              "      <td>sell</td>\n",
              "      <td>apartment</td>\n",
              "      <td>Rosario</td>\n",
              "      <td>|Argentina|Santa Fe|Rosario|</td>\n",
              "      <td>Argentina</td>\n",
              "      <td>Santa Fe</td>\n",
              "      <td>3838574.0</td>\n",
              "      <td>-32.9451392,-60.6383555</td>\n",
              "      <td>-32.945139</td>\n",
              "      <td>-60.638356</td>\n",
              "      <td>NaN</td>\n",
              "      <td>NaN</td>\n",
              "      <td>NaN</td>\n",
              "      <td>NaN</td>\n",
              "      <td>71.0</td>\n",
              "      <td>37.0</td>\n",
              "      <td>NaN</td>\n",
              "      <td>NaN</td>\n",
              "      <td>NaN</td>\n",
              "      <td>2.0</td>\n",
              "      <td>NaN</td>\n",
              "      <td>https://www.properati.com.ar/1khf6_venta_depar...</td>\n",
              "      <td>Departamento en venta de un dormitorio con bal...</td>\n",
              "      <td>DEPARTAMENTO EN VENTA LAVALLE 1200, CON BALCON...</td>\n",
              "      <td>https://thumbs4.properati.com/6/hdtBf5COZADjer...</td>\n",
              "    </tr>\n",
              "  </tbody>\n",
              "</table>\n",
              "<p>179663 rows × 27 columns</p>\n",
              "</div>"
            ],
            "text/plain": [
              "                                              id  ...                                    image_thumbnail\n",
              "0       0de2467efb2476545515f109b506e084728ea6a2  ...  https://thumbs4.properati.com/0/0spuVNRd1jmVHZ...\n",
              "1       cb23211cab9f6183df65c01f6be24bb48f4dca62  ...  https://thumbs4.properati.com/3/L6iQ8xPFc9vf9b...\n",
              "2       4f62d7c3f374570841ab10a3cbe6cca938e21484  ...  https://thumbs4.properati.com/8/chd92sZHrIo_n1...\n",
              "3       1649a3c35359d681abae4a63d9a8545054d2096b  ...  https://thumbs4.properati.com/4/VwMxluMwG26qfK...\n",
              "4       f7270f3642296d4454458b0a6cfc0fa422d015a7  ...  https://thumbs4.properati.com/7/tLacKGfOtTKun1...\n",
              "...                                          ...  ...                                                ...\n",
              "179658  3cfb3a489574843c63fc4530cc3ff13936d1c334  ...  https://thumbs4.properati.com/0/Jfxnv5jLfqcmWf...\n",
              "179659  4c3003fb94e85d7b12122e1c976a03009b29e683  ...  https://thumbs4.properati.com/4/oY1DdZNAdKFtiY...\n",
              "179660  daaa288b5e16d275f5b10866c1d869862e919fbd  ...  https://thumbs4.properati.com/2/m2AsqMYSbiwPba...\n",
              "179661  d93424b51954e7a5c4704d86d0894474be4efb8d  ...  https://thumbs4.properati.com/7/vAXV5zxpSdpSD0...\n",
              "179662  4ee2810feb951adf0ce176adccd43a86b99642b7  ...  https://thumbs4.properati.com/6/hdtBf5COZADjer...\n",
              "\n",
              "[179663 rows x 27 columns]"
            ]
          },
          "metadata": {},
          "execution_count": 72
        }
      ]
    },
    {
      "cell_type": "markdown",
      "metadata": {
        "id": "EEc8nse_RnA8"
      },
      "source": [
        "# Ejercicio 3.1.1\n",
        "## Calcular el valor medio de los deptos 2 ambientes en Capital Federal"
      ]
    },
    {
      "cell_type": "code",
      "metadata": {
        "colab": {
          "base_uri": "https://localhost:8080/"
        },
        "id": "udME9kS1n8DB",
        "outputId": "7eab9997-6c06-43e8-a5ca-9c5930933d89"
      },
      "source": [
        "df_dosAmbientes = df.loc[(df['rooms']==2) & (df['state_name'] == 'Capital Federal')]\n",
        "df_columnPrice = df_dosAmbientes.loc[:, 'price']\n",
        "df_columnPrice.mean()"
      ],
      "execution_count": null,
      "outputs": [
        {
          "output_type": "execute_result",
          "data": {
            "text/plain": [
              "294436.56733378564"
            ]
          },
          "metadata": {},
          "execution_count": 4
        }
      ]
    },
    {
      "cell_type": "markdown",
      "metadata": {
        "id": "euJWDSsxR5ZP"
      },
      "source": [
        "# Ejercicio 3.1.2\n",
        "## Hacer un grafico de barras por cantidad de ambientes en Capital Federal quitando los outliers"
      ]
    },
    {
      "cell_type": "code",
      "metadata": {
        "colab": {
          "base_uri": "https://localhost:8080/"
        },
        "id": "T9CZWTQ8SFYR",
        "outputId": "c573a106-f488-4932-e2b3-20d344c9405a"
      },
      "source": [
        "df_caba = df.loc[df['state_name'] == 'Capital Federal']\n",
        "filtroRooms = df_caba[df['rooms'].between(1, 5)]\n",
        "df_columnRooms = filtroRooms.loc[:, 'rooms']\n",
        "x_values = df_columnRooms.unique()\n",
        "y_values = pd.value_counts(df_columnRooms.values, sort=False)\n",
        "plt.bar(x_values, y_values)\n",
        "plt.xlabel('Habitaciones')\n",
        "plt.ylabel('Inmuebles')\n",
        "plt.show()\n",
        "plt.close('all')"
      ],
      "execution_count": null,
      "outputs": [
        {
          "output_type": "stream",
          "name": "stderr",
          "text": [
            "/usr/local/lib/python3.7/dist-packages/ipykernel_launcher.py:2: UserWarning: Boolean Series key will be reindexed to match DataFrame index.\n",
            "  \n"
          ]
        },
        {
          "output_type": "display_data",
          "data": {
            "image/png": "[encoded data removed]",
            "text/plain": [
              "<Figure size 432x288 with 1 Axes>"
            ]
          },
          "metadata": {
            "needs_background": "light"
          }
        }
      ]
    },
    {
      "cell_type": "markdown",
      "metadata": {
        "id": "eIAh8S0SiYGw"
      },
      "source": [
        "# Ejercicio 3.1.3\n",
        "## Hacer un grafico de barras horizontal de los 10 barrios con mayor cantidad de publicaciones de deptos. de 2 ambientes en Capital Federal"
      ]
    },
    {
      "cell_type": "code",
      "metadata": {
        "colab": {
          "base_uri": "https://localhost:8080/",
          "height": 284
        },
        "id": "jlfR35OmjGcH",
        "outputId": "81817579-f184-40d7-8442-823226a88664"
      },
      "source": [
        "df_ambientes = df.loc[(df['rooms']==2) & (df['state_name'] == 'Capital Federal')]\n",
        "df_columBarrios = df_ambientes.loc[:,'place_name']\n",
        "serie_barrio = pd.Series(df_columBarrios).value_counts().head(10)\n",
        "serie_barrio.plot.barh()"
      ],
      "execution_count": null,
      "outputs": [
        {
          "output_type": "execute_result",
          "data": {
            "text/plain": [
              "<matplotlib.axes._subplots.AxesSubplot at 0x7fd52d8a1510>"
            ]
          },
          "metadata": {},
          "execution_count": 71
        },
        {
          "output_type": "display_data",
          "data": {
            "image/png": "[encoded data removed]",
            "text/plain": [
              "<Figure size 432x288 with 1 Axes>"
            ]
          },
          "metadata": {
            "needs_background": "light"
          }
        }
      ]
    },
    {
      "cell_type": "markdown",
      "metadata": {
        "id": "o8OqRY0x4Nmo"
      },
      "source": [
        "#Ejercicio 3.2\n",
        "####Para aquellas propiedades de Capital Federal que tengan informaci´on geogr´afica se pide escribir un programa para hacer un scatterplot de las propiedades que difieran a lo sumo en 0.05 grados en latitud y longitud respecto al centro geogr´afico de la ciudad. Obs.: obtener las coordenadas del centro de la ciudad de modo aproximado con googlemaps)."
      ]
    },
    {
      "cell_type": "code",
      "metadata": {
        "id": "ipNQE6nX4KOO",
        "colab": {
          "base_uri": "https://localhost:8080/",
          "height": 282
        },
        "outputId": "5959748e-e3b3-40a7-c369-1a3a6e0b39db"
      },
      "source": [
        "dfCapitalCoordenadas = df[(df['state_name'] == 'Capital Federal') & (df['lat-lon'].notna()) & (df['lat'].notna()) & (df['lon'].notna())]\n",
        "# Coordenadas Ciudad de Buenos Aires:\tLatitud: -34.6083, Longitud: -58.3712\n",
        "# Latitud Mínima: -34.6583 ; Latitud Máxima: -34.5583\n",
        "# Longitud Mínima: -58.4212 ; Longitud Máxima: -58.3212\n",
        "\n",
        "dfCapitalCoordenadas = dfCapitalCoordenadas.astype({\"lat\": float, \"lon\": float})\n",
        "dfCapitalCoordenadas = dfCapitalCoordenadas[dfCapitalCoordenadas['lat'].between(-34.6583, -34.5583)]\n",
        "dfCapitalCoordenadas = dfCapitalCoordenadas[dfCapitalCoordenadas['lat'].between(-58.4212, -58.3212)]\n",
        "plt.scatter(dfCapitalFiltrado['lat'], dfCapitalFiltrado['lon'])"
      ],
      "execution_count": null,
      "outputs": [
        {
          "output_type": "execute_result",
          "data": {
            "text/plain": [
              "<matplotlib.collections.PathCollection at 0x7f3b2a5d9310>"
            ]
          },
          "metadata": {},
          "execution_count": 55
        },
        {
          "output_type": "display_data",
          "data": {
            "image/png": "[encoded data removed]",
            "text/plain": [
              "<Figure size 432x288 with 1 Axes>"
            ]
          },
          "metadata": {
            "needs_background": "light"
          }
        }
      ]
    },
    {
      "cell_type": "markdown",
      "metadata": {
        "id": "1zRZNLCVt2kP"
      },
      "source": [
        "# Ejercicio 3.3\n",
        "## En el cap. 5 (pag. 96-102) del libro 1 se explican las medidas de tendencia central y de dispersion para describir estadísticamente un conjunto de datos. En este ejercicio la idea es utilizar algunas de esas medidas para realizar especulaciones fundamentadas sobre el conjunto de datos.\n",
        "\n",
        "Las cinco ciudades con mayor población del país son:\n",
        "1. Buenos Aires\n",
        "2. Cordoba\n",
        "3. Rosario\n",
        "4. La Plata\n",
        "5. Mar del Plata\n",
        "\n",
        "# 3.3.1\n",
        "Considerando solamente los deptos. de 3 ambientes, escribir un programa que grafique un boxplot de los precios de esos deptos. de las 5 ciudades mencionadas."
      ]
    },
    {
      "cell_type": "code",
      "metadata": {
        "colab": {
          "base_uri": "https://localhost:8080/",
          "height": 374
        },
        "id": "lgckmup9ubPP",
        "outputId": "6212ccfc-a56e-449d-9d6a-0690e79cae3d"
      },
      "source": [
        "df_tresAmbientes = df.loc[\n",
        "  (df['rooms']==3) & \n",
        "  (df['price_aprox_usd'].notna()) &\n",
        "  ((df['state_name'] == 'Capital Federal') | \n",
        "  (df['state_name'] == 'Córdoba') | \n",
        "  (df['place_name'] == 'Rosario') | \n",
        "  (df['place_name'] == 'La Plata') |\n",
        "  (df['place_name'] == 'Mar del Plata'))\n",
        "]\n",
        "\n",
        "df_tresAmbientes.boxplot(column=['price_aprox_usd'], by='state_name', showfliers=False)"
      ],
      "execution_count": 137,
      "outputs": [
        {
          "output_type": "stream",
          "name": "stderr",
          "text": [
            "/usr/local/lib/python3.7/dist-packages/numpy/core/_asarray.py:83: VisibleDeprecationWarning: Creating an ndarray from ragged nested sequences (which is a list-or-tuple of lists-or-tuples-or ndarrays with different lengths or shapes) is deprecated. If you meant to do this, you must specify 'dtype=object' when creating the ndarray\n",
            "  return array(a, dtype, copy=False, order=order)\n"
          ]
        },
        {
          "output_type": "execute_result",
          "data": {
            "text/plain": [
              "<matplotlib.axes._subplots.AxesSubplot at 0x7f3b0ffce9d0>"
            ]
          },
          "metadata": {},
          "execution_count": 137
        },
        {
          "output_type": "display_data",
          "data": {
            "image/png": "[encoded data removed]",
            "text/plain": [
              "<Figure size 432x288 with 1 Axes>"
            ]
          },
          "metadata": {
            "needs_background": "light"
          }
        }
      ]
    },
    {
      "cell_type": "markdown",
      "metadata": {
        "id": "hpmUMGju83Ty"
      },
      "source": [
        "# Ejercicio 3.3.2\n",
        "###Basandose en el gráfico anterior, responder a las siguientes preguntas:\n",
        "1. Cual es la ciudad con mayor costo de vida? Justificar\n",
        "\n",
        "  - La ciudad con mayor costo de vida es la Ciudad de Buenos Aires ya que tiene una media más alta y disperción entre sus datos. Los departamentos tienen aproximadamente una mediana de 200000 USD aproximadamente y es la más alta comparada a las de las otras ciudades.\n",
        "\n",
        "2. Cual es la ciudad más equitativa? Justificar\n",
        "\n",
        "  - La ciudad más equitativa es la ciudad de La Plata, basicamente es la que tiene menor disperción entre los precios de venta de sus departamentos, además de tener la mediana más baja si se compara con las demás ciudades.\n",
        "\n",
        "3. Proponer algunos argumentos por los cuales podría ser incorrecto deducir las dos respuestas anteriores del conjunto de datos que estamos utilizando\n",
        "\n",
        "  - Si nos referimos a costo de vida, esta mal la argumentación ya que no solo hay que basarse en el costo de un departamento, sino que incluye más gastos como por ejemplo las expensas, servicios, alimentos, etc. Lo mismo incluye para la ciudad más equitativa.\n",
        "  - El data set puede llegar a tener más datos para contemplar más realmente estos datos estadísticos, ya que seguramente hay muchos más departamentos para obtener datos ademas de los que estan en este data set.\n"
      ]
    }
  ]
}